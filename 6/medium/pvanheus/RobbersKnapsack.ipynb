{
 "metadata": {
  "name": "",
  "signature": "sha256:1db5bfd16c8723b4b130b5c180d8e09636053071712f1689cfe99f1bf1abc35e"
 },
 "nbformat": 3,
 "nbformat_minor": 0,
 "worksheets": [
  {
   "cells": [
    {
     "cell_type": "markdown",
     "metadata": {},
     "source": [
      "This notebook implements a dynamic programming approach to the [Knapsack problem](http://www.geeksforgeeks.org/dynamic-programming-set-10-0-1-knapsack-problem/). The problem setup is that there is a bag with a certain `capacity` and a collection of `items`. The items are modelled by the Item class and, besides being named, have two attributes, a weight and a value.\n",
      "\n",
      "The goal is to identify that collection of items that maximises the value of the items carried in the bag.\n",
      "\n"
     ]
    },
    {
     "cell_type": "code",
     "collapsed": false,
     "input": [
      "from __future__ import print_function\n",
      "import random\n",
      "\n",
      "class Item(object):\n",
      "    def __init__(self, name, weight, value):\n",
      "        self.name = name\n",
      "        self.weight = weight\n",
      "        self.value = value\n",
      "    \n",
      "    def __repr__(self):\n",
      "        return '{} weight {} value {}'.format(self.name, self.weight, self.value)\n",
      "    \n",
      "items = []\n",
      "for name in ('A', 'B', 'C', 'D'):\n",
      "    items.append(Item(name, random.randint(1, 10), random.randint(1, 10)))\n",
      "print(items)"
     ],
     "language": "python",
     "metadata": {},
     "outputs": [
      {
       "output_type": "stream",
       "stream": "stdout",
       "text": [
        "[A weight 7 value 3, B weight 5 value 2, C weight 5 value 9, D weight 4 value 5]\n"
       ]
      }
     ],
     "prompt_number": 75
    },
    {
     "cell_type": "code",
     "collapsed": false,
     "input": [
      "capacity = 10"
     ],
     "language": "python",
     "metadata": {},
     "outputs": [],
     "prompt_number": 76
    },
    {
     "cell_type": "markdown",
     "metadata": {},
     "source": [
      "Below is a recursive implementation of the knapsack problem. It checks to see if there are any items left in the list of items items. If there are, it evaluates two options:\n",
      "\n",
      "1. The value obtained by adding the first item in the list to the bag.\n",
      "\n",
      "2. The value obtained by leaving that item out.\n",
      "\n",
      "The function then recurses and considers the options for the rest of the list (without the first item).\n",
      "\n",
      "The implementation makes use of the fact that the max of two tuples in Python is chosen by comparing the elements of the tuples one at a time. Thus `max((1, \"A\"), (2, \"B\")` is `(2, \"B\")`."
     ]
    },
    {
     "cell_type": "code",
     "collapsed": false,
     "input": [
      "def knapsack(items, total_weight, total_value, items_in_sack, capacity):\n",
      "    if len(items) == 0:\n",
      "        return (total_value, items_in_sack)\n",
      "    \n",
      "    item = items[0]\n",
      "#     print(item, len(items), items[1:])\n",
      "    \n",
      "    if (total_weight + item.weight > capacity):\n",
      "        return knapsack(items[1:], total_weight, total_value, items_in_sack, capacity)\n",
      "    else:\n",
      "        return max(knapsack(items[1:], total_weight, total_value, items_in_sack, capacity), \n",
      "                   knapsack(items[1:], total_weight+item.weight, total_value+item.value, items_in_sack + [item], capacity))\n",
      "    "
     ],
     "language": "python",
     "metadata": {},
     "outputs": [],
     "prompt_number": 89
    },
    {
     "cell_type": "markdown",
     "metadata": {},
     "source": [
      "Here is a demonstration of the knapsack code in use."
     ]
    },
    {
     "cell_type": "code",
     "collapsed": false,
     "input": [
      "knapsack(items, 0, 0, [], capacity)"
     ],
     "language": "python",
     "metadata": {},
     "outputs": [
      {
       "metadata": {},
       "output_type": "pyout",
       "prompt_number": 88,
       "text": [
        "(14, [C weight 5 value 9, D weight 4 value 5])"
       ]
      }
     ],
     "prompt_number": 88
    },
    {
     "cell_type": "markdown",
     "metadata": {},
     "source": [
      "If you uncomment the print statement you see that the code repeats the evaluation of several sub-lists:"
     ]
    },
    {
     "cell_type": "code",
     "collapsed": false,
     "input": [
      "knapsack(items, 0, 0, [], capacity)"
     ],
     "language": "python",
     "metadata": {},
     "outputs": [
      {
       "output_type": "stream",
       "stream": "stdout",
       "text": [
        "A weight 7 value 3 4 [B weight 5 value 2, C weight 5 value 9, D weight 4 value 5]\n",
        "B weight 5 value 2 3 [C weight 5 value 9, D weight 4 value 5]\n",
        "C weight 5 value 9 2 [D weight 4 value 5]\n",
        "D weight 4 value 5 1 []\n",
        "D weight 4 value 5 1 []\n",
        "C weight 5 value 9 2 [D weight 4 value 5]\n",
        "D weight 4 value 5 1 []\n",
        "D weight 4 value 5 1 []\n",
        "B weight 5 value 2 3 [C weight 5 value 9, D weight 4 value 5]\n",
        "C weight 5 value 9 2 [D weight 4 value 5]\n",
        "D weight 4 value 5 1 []\n"
       ]
      },
      {
       "metadata": {},
       "output_type": "pyout",
       "prompt_number": 90,
       "text": [
        "(14, [C weight 5 value 9, D weight 4 value 5])"
       ]
      }
     ],
     "prompt_number": 90
    },
    {
     "cell_type": "markdown",
     "metadata": {},
     "source": [
      "An implementation of this solution that uses memoisation would avoid those comparisons."
     ]
    },
    {
     "cell_type": "markdown",
     "metadata": {},
     "source": [
      "Here's a new problem: the edit distance between two strings is the miminum number of changes that needs to be made to turn one string into another (assuming both strings are equal length), using three types of operations:\n",
      "\n",
      "1. change a letter\n",
      "2. insert a letter\n",
      "3. delete a letter\n",
      "\n",
      "So the edit distance between `frog` and `log` is 2 (one deletion and one change). So the challenge is to implement a function to compute the mimn"
     ]
    },
    {
     "cell_type": "code",
     "collapsed": false,
     "input": [],
     "language": "python",
     "metadata": {},
     "outputs": []
    }
   ],
   "metadata": {}
  }
 ]
}